{
 "metadata": {
  "language_info": {
   "codemirror_mode": {
    "name": "ipython",
    "version": 3
   },
   "file_extension": ".py",
   "mimetype": "text/x-python",
   "name": "python",
   "nbconvert_exporter": "python",
   "pygments_lexer": "ipython3",
   "version": "3.9.0-final"
  },
  "orig_nbformat": 2,
  "kernelspec": {
   "name": "python3",
   "display_name": "Python 3.9.0 64-bit ('3.9.0')",
   "metadata": {
    "interpreter": {
     "hash": "abb9924b34dda6271ba8fd17dee95561d420fbc8edd7f5facf90f7ffce59cab4"
    }
   }
  }
 },
 "nbformat": 4,
 "nbformat_minor": 2,
 "cells": [
  {
   "cell_type": "code",
   "execution_count": 26,
   "metadata": {},
   "outputs": [],
   "source": [
    "import fasttext\n",
    "import json\n",
    "import random\n",
    "import glob\n"
   ]
  },
  {
   "source": [
    "# Prepare data from raw"
   ],
   "cell_type": "markdown",
   "metadata": {}
  },
  {
   "cell_type": "code",
   "execution_count": 35,
   "metadata": {},
   "outputs": [],
   "source": [
    "times_to_write_truthy_value = 10\n",
    "repos = glob.glob(\"data/scraped/*.json\")\n",
    "\n",
    "with open('data/dataset.train', 'w') as train_dataset:\n",
    "    with open('data/dataset.test', 'w') as test_dataset:\n",
    "        for repo in repos:\n",
    "            with open(repo) as raw_dataset:\n",
    "                for obj in json.load(raw_dataset):\n",
    "\n",
    "                    for file in obj['changed_files']:\n",
    "                        dataset_to_write_into = train_dataset if random.random() < 0.8 else test_dataset\n",
    "                        obj['title'] = obj['title'].replace('\\n', '\\t').replace('\\r', '\\t')\n",
    "                        obj['body'] = obj['body'].replace('\\n', '\\t').replace('\\r', '\\t')\n",
    "                        file['content'] = file['content'].replace('\\n', '\\t').replace('\\r', '\\t')\n",
    "                        \n",
    "                        dataset_to_write_into.write(f\"__label__included {obj['title']} |_-_| {obj['body']} |_-_| {file['name']} |_-_| {file['content']}\\n\")\n",
    "                    for file in obj['unchanged_files']:\n",
    "                        dataset_to_write_into = train_dataset if random.random() < 0.8 else test_dataset\n",
    "                        obj['title'] = obj['title'].replace('\\n', '\\t').replace('\\r', '\\t')\n",
    "                        obj['body'] = obj['body'].replace('\\n', '\\t').replace('\\r', '\\t')\n",
    "                        file['content'] = file['content'].replace('\\n', '\\t').replace('\\r', '\\t')\n",
    "\n",
    "                        value = f\"__label__excluded {obj['title']} |_-_| {obj['body']} |_-_| {file['name']} |_-_| {file['content']}\\n\"\n",
    "                        for _ in range(times_to_write_truthy_value):\n",
    "                            dataset_to_write_into.write(value)"
   ]
  },
  {
   "cell_type": "code",
   "execution_count": 37,
   "metadata": {},
   "outputs": [],
   "source": [
    "# Shuffle files\n",
    "def shuffle_file(filename):\n",
    "    lines = open(filename).readlines()\n",
    "    random.shuffle(lines)\n",
    "    open(filename, 'w').writelines(lines)\n",
    "\n",
    "shuffle_file(\"data/dataset.train\")\n",
    "shuffle_file(\"data/dataset.test\")"
   ]
  },
  {
   "cell_type": "code",
   "execution_count": 32,
   "metadata": {},
   "outputs": [],
   "source": [
    "# Each line should be:\n",
    "# __label__included Then the whole fucking text\n",
    "# __label__excluded Then other text here\n",
    "model = fasttext.train_supervised(input=\"dataset.train\")"
   ]
  },
  {
   "cell_type": "code",
   "execution_count": 33,
   "metadata": {},
   "outputs": [],
   "source": [
    "model.save_model(\"model_pr_files_to_change.bin\")"
   ]
  },
  {
   "cell_type": "code",
   "execution_count": 34,
   "metadata": {},
   "outputs": [
    {
     "output_type": "execute_result",
     "data": {
      "text/plain": [
       "(8046, 0.9931643052448421, 0.9931643052448421)"
      ]
     },
     "metadata": {},
     "execution_count": 34
    }
   ],
   "source": [
    "model.test(\"dataset.test\")"
   ]
  },
  {
   "cell_type": "code",
   "execution_count": null,
   "metadata": {},
   "outputs": [],
   "source": []
  }
 ]
}